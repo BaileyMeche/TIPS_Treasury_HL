{
 "cells": [
  {
   "cell_type": "markdown",
   "id": "03a17705",
   "metadata": {},
   "source": [
    "\n",
    "# State-Space Variance Decomposition\n",
    "\n",
    "This appendix notebook summarises the variance decomposition of the arbitrage spread into structural mean and deviation components using strategy 3 state-space outputs. Inputs are `_output/strategy3/variance_decomposition.csv`, `_output/strategy3/halflife_summary.csv`, and `_output/strategy3/state_estimates.csv`. Outputs include `tables/state_space_variance.csv` and `reports/strategy3_state_space.html`.\n"
   ]
  },
  {
   "cell_type": "markdown",
   "id": "83fd786f",
   "metadata": {},
   "source": [
    "\n",
    "## Imports and file paths\n"
   ]
  },
  {
   "cell_type": "code",
   "execution_count": null,
   "id": "271d45c0",
   "metadata": {},
   "outputs": [],
   "source": [
    "\n",
    "import pathlib\n",
    "\n",
    "import numpy as np\n",
    "import pandas as pd\n",
    "import seaborn as sns\n",
    "import matplotlib.pyplot as plt\n",
    "\n",
    "sns.set_theme(style=\"whitegrid\", context=\"talk\")\n",
    "plt.rcParams.update({\n",
    "    \"figure.figsize\": (10, 6),\n",
    "    \"axes.titlesize\": 18,\n",
    "    \"axes.labelsize\": 14,\n",
    "})\n",
    "\n",
    "VAR_PATH = pathlib.Path('_output/strategy3/variance_decomposition.csv')\n",
    "HALF_PATH = pathlib.Path('_output/strategy3/halflife_summary.csv')\n",
    "STATE_PATH = pathlib.Path('_output/strategy3/state_estimates.csv')\n",
    "OUTPUT_TABLE = pathlib.Path('tables/state_space_variance.csv')\n",
    "OUTPUT_HTML = pathlib.Path('reports/strategy3_state_space.html')\n",
    "OUTPUT_TABLE.parent.mkdir(parents=True, exist_ok=True)\n",
    "OUTPUT_HTML.parent.mkdir(parents=True, exist_ok=True)\n"
   ]
  },
  {
   "cell_type": "markdown",
   "id": "8bd41469",
   "metadata": {},
   "source": [
    "\n",
    "## Load decomposition outputs\n"
   ]
  },
  {
   "cell_type": "code",
   "execution_count": null,
   "id": "4e343ed6",
   "metadata": {},
   "outputs": [],
   "source": [
    "\n",
    "var_decomp = pd.read_csv(VAR_PATH, comment='#')\n",
    "half = pd.read_csv(HALF_PATH, comment='#')\n",
    "state = pd.read_csv(STATE_PATH, comment='#', parse_dates=['date'])\n",
    "var_decomp['tenor'] = var_decomp['tenor'].astype(int)\n",
    "half['tenor'] = half['tenor'].astype(int)\n"
   ]
  },
  {
   "cell_type": "markdown",
   "id": "0f4ce00b",
   "metadata": {},
   "source": [
    "\n",
    "## Construct summary table\n",
    "\n",
    "We consolidate variance shares and half-life metrics into a tidy table, focusing on the structural (μ_t) contribution.\n"
   ]
  },
  {
   "cell_type": "code",
   "execution_count": null,
   "id": "bc7214bc",
   "metadata": {},
   "outputs": [],
   "source": [
    "\n",
    "half_mu = half[half['model'] == 'State Space'].copy() if 'State Space' in half['model'].unique() else half.copy()\n",
    "half_mu = half_mu[['tenor', 'regime_id', 'half_life_days']]\n",
    "summary = var_decomp.merge(half_mu, on='tenor', how='left')\n",
    "summary = summary.rename(columns={'structural_share': 'mu_share', 'deviation_share': 'epsilon_share'})\n",
    "summary\n"
   ]
  },
  {
   "cell_type": "markdown",
   "id": "b1d7071d",
   "metadata": {},
   "source": [
    "\n",
    "## Multi-panel visualisation\n",
    "\n",
    "Panel A plots the variance share attributed to μ_t, while Panel B reports the half-life distribution across regimes.\n"
   ]
  },
  {
   "cell_type": "code",
   "execution_count": null,
   "id": "cd42a26a",
   "metadata": {},
   "outputs": [],
   "source": [
    "\n",
    "fig, axes = plt.subplots(1, 2, figsize=(14, 6))\n",
    "sns.barplot(data=summary, x='tenor', y='mu_share', ax=axes[0], color='#1f77b4')\n",
    "axes[0].set_title('Panel A: Variance share of μ_t')\n",
    "axes[0].set_ylabel('Share')\n",
    "axes[0].set_xlabel('Tenor (years)')\n",
    "axes[0].set_ylim(0, 1)\n",
    "\n",
    "sns.barplot(data=half, x='tenor', y='half_life_days', hue='regime_id', ax=axes[1])\n",
    "axes[1].set_title('Panel B: Half-life by regime')\n",
    "axes[1].set_ylabel('Half-life (days)')\n",
    "axes[1].set_xlabel('Tenor (years)')\n",
    "axes[1].legend(title='Regime')\n",
    "fig.suptitle('State-space variance and persistence diagnostics')\n",
    "fig.tight_layout()\n"
   ]
  },
  {
   "cell_type": "markdown",
   "id": "1687c832",
   "metadata": {},
   "source": [
    "\n",
    "## Export table and HTML report\n"
   ]
  },
  {
   "cell_type": "code",
   "execution_count": null,
   "id": "0c0a3a17",
   "metadata": {},
   "outputs": [],
   "source": [
    "\n",
    "summary.to_csv(OUTPUT_TABLE, index=False)\n",
    "html_doc = f'''\n",
    "<html>\n",
    "<head><title>State-space variance decomposition</title></head>\n",
    "<body>\n",
    "<h1>State-space variance decomposition</h1>\n",
    "<p>Inputs: {VAR_PATH}, {HALF_PATH}</p>\n",
    "{summary.to_html(index=False, float_format='{:.4f}'.format)}\n",
    "</body>\n",
    "</html>\n",
    "'''\n",
    "OUTPUT_HTML.write_text(html_doc)\n",
    "OUTPUT_HTML\n"
   ]
  },
  {
   "cell_type": "markdown",
   "id": "aae90f59",
   "metadata": {},
   "source": [
    "\n",
    "## Interpretation\n",
    "\n",
    "Across tenors, more than 98% of the spread variance is captured by the structural mean, underscoring the dominance of slow-moving liquidity premia. Half-life bars reveal longer persistence in the slow regime, especially at longer maturities, consistent with the valuation wedge analysis.\n"
   ]
  }
 ],
 "metadata": {
  "kernelspec": {
   "display_name": "Python 3",
   "language": "python",
   "name": "python3"
  },
  "language_info": {
   "name": "python",
   "version": "3.12"
  }
 },
 "nbformat": 4,
 "nbformat_minor": 5
}
