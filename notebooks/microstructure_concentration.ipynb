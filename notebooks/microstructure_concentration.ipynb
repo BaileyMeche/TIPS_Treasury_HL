{
 "cells": [
  {
   "cell_type": "markdown",
   "id": "be7d30b1",
   "metadata": {},
   "source": [
    "\n",
    "# Microstructure Concentration and Basis Resolution\n",
    "\n",
    "This notebook studies who closes Treasury inflation basis dislocations using TRACE microstructure panels (`data/trace_microstructure_event_panels.csv`) and liquidity diagnostics (`data/tenor_liq.csv`). We merge the transaction event data with latent state estimates from the strategy 3 state-space model (`_output/strategy3/state_estimates.csv`) to measure the half-life of basis deviations around policy and flow events. The workflow reproduces the concentration patterns discussed in the main text and prepares publication-ready tables and figures for `reports/microstructure_concentration_results.html` and `reports/microstructure_concentration_results.csv`.\n",
    "\n",
    "We estimate the event-level response function\n",
    "\\\\[\n",
    "\\text{HalfLife}_{e,\\\\tau} = \\\\\\\\beta_0 + \\\\\\\\beta_1 \\\\text{HHI}_{e,\\\\tau} + \\\\\\\\beta_2 \\\\text{PrincipalShare}_{e,\\\\tau} + \\\\\\\\beta_3 \\\\text{ATSShare}_{e,\\\\tau} + \\\\Gamma' Z_{e,\\\\tau} + \\lambda_{\\\\text{event type}\\\\times\\\\tau} + \\\\varepsilon_{e,\\\\tau},\n",
    "\\\\]\n",
    "where `Z` collects volume, trade count, and dealer count controls. Half-life is computed from the filtered irregular component of the state-space estimates.\n"
   ]
  },
  {
   "cell_type": "markdown",
   "id": "c2cddcde",
   "metadata": {},
   "source": [
    "\n",
    "## Setup\n",
    "\n",
    "We import standard scientific Python libraries, configure plotting defaults for journal-ready figures, and define helper routines for tenor interpolation and half-life extraction.\n"
   ]
  },
  {
   "cell_type": "code",
   "execution_count": null,
   "id": "a19a035d",
   "metadata": {},
   "outputs": [],
   "source": [
    "\n",
    "import pathlib\n",
    "\n",
    "import numpy as np\n",
    "import pandas as pd\n",
    "import seaborn as sns\n",
    "import matplotlib.pyplot as plt\n",
    "import statsmodels.formula.api as smf\n",
    "\n",
    "sns.set_theme(style=\"whitegrid\", context=\"talk\")\n",
    "plt.rcParams.update({\n",
    "    \"figure.figsize\": (12, 6),\n",
    "    \"axes.titlesize\": 18,\n",
    "    \"axes.labelsize\": 14,\n",
    "    \"legend.frameon\": False,\n",
    "    \"axes.grid\": True,\n",
    "})\n",
    "\n",
    "OUTPUT_HTML = pathlib.Path(\"reports/microstructure_concentration_results.html\")\n",
    "OUTPUT_CSV = pathlib.Path(\"reports/microstructure_concentration_results.csv\")\n",
    "OUTPUT_HTML.parent.mkdir(parents=True, exist_ok=True)\n"
   ]
  },
  {
   "cell_type": "markdown",
   "id": "a18512f6",
   "metadata": {},
   "source": [
    "\n",
    "## Data ingestion and preprocessing\n",
    "\n",
    "We load TRACE event panels, quarterly liquidity diagnostics, and state-space estimates. The state estimates contain smoothed and filtered levels (`mu_t`) and deviations (`epsilon_t`). Because the state outputs are only available for 2y/5y/10y/20y tenors, we linearly interpolate the 7-year latent states needed for TRACE coverage. Tenor-level liquidity attributes are aligned by quarter.\n"
   ]
  },
  {
   "cell_type": "code",
   "execution_count": null,
   "id": "f1b9cdab",
   "metadata": {},
   "outputs": [],
   "source": [
    "\n",
    "EVENT_PATH = pathlib.Path(\"data/trace_microstructure_event_panels.csv\")\n",
    "LIQ_PATH = pathlib.Path(\"data/tenor_liq.csv\")\n",
    "STATE_PATH = pathlib.Path(\"_output/strategy3/state_estimates.csv\")\n",
    "\n",
    "micro = pd.read_csv(EVENT_PATH, parse_dates=[\"event_date\"])\n",
    "liq = pd.read_csv(LIQ_PATH, parse_dates=[\"qdate\"])\n",
    "state = pd.read_csv(STATE_PATH, comment=\"#\", parse_dates=[\"date\"])\n",
    "\n",
    "micro['tenor'] = micro['tenor'].astype(int)\n",
    "liq['tenor_bucket'] = liq['tenor_bucket'].astype(int)\n",
    "state['tenor'] = state['tenor'].astype(int)\n",
    "\n",
    "liq['quarter'] = liq['qdate'].dt.to_period('Q')\n",
    "state['quarter'] = state['date'].dt.to_period('Q')\n",
    "micro['quarter'] = micro['event_date'].dt.to_period('Q')\n",
    "\n",
    "liquidity_features = (\n",
    "    liq.groupby(['quarter', 'tenor_bucket'])\n",
    "       .agg({\n",
    "           'bid_ask_spread': 'mean',\n",
    "           'liq_hhi': 'mean',\n",
    "           'issue_conc_top5': 'mean',\n",
    "           'pubout': 'mean'\n",
    "       })\n",
    "       .rename_axis(index={'tenor_bucket': 'tenor'})\n",
    "       .reset_index()\n",
    ")\n",
    "\n",
    "state = state.sort_values(['tenor', 'date'])\n"
   ]
  },
  {
   "cell_type": "markdown",
   "id": "a55f963d",
   "metadata": {},
   "source": [
    "\n",
    "### Interpolating latent states for seven-year tenor\n",
    "\n",
    "TRACE panels cover 5-year and 7-year TIPS. We interpolate the 7-year state as a convex combination of the 5-year and 10-year states, matching on date:\n",
    "\\\\[\n",
    "\\mu^{(7)}_t = 0.6\\, \\mu^{(5)}_t + 0.4\\, \\mu^{(10)}_t, \\quad \\varepsilon^{(7)}_t = 0.6\\, \\varepsilon^{(5)}_t + 0.4\\, \\varepsilon^{(10)}_t.\n",
    "\\\\]\n",
    "This preserves smoothness while ensuring the interpolated state inherits the persistence profile of the surrounding maturities.\n"
   ]
  },
  {
   "cell_type": "code",
   "execution_count": null,
   "id": "2c6ddcff",
   "metadata": {},
   "outputs": [],
   "source": [
    "\n",
    "weights = {5: {5: 1.0}, 7: {5: 0.6, 10: 0.4}, 10: {10: 1.0}}\n",
    "\n",
    "records = []\n",
    "for tenor in [5, 7, 10]:\n",
    "    for src_tenor, w in weights[tenor].items():\n",
    "        contrib = (\n",
    "            state[state['tenor'] == src_tenor]\n",
    "            [['date', 'mu_smoothed', 'mu_filtered', 'epsilon_smoothed', 'epsilon_filtered', 'quarter']]\n",
    "            .assign(weight=w)\n",
    "        )\n",
    "        contrib[['mu_smoothed', 'mu_filtered', 'epsilon_smoothed', 'epsilon_filtered']] *= w\n",
    "        records.append(contrib.assign(tenor=tenor))\n",
    "\n",
    "state_interp = (\n",
    "    pd.concat(records)\n",
    "      .groupby(['date', 'tenor', 'quarter'], as_index=False)\n",
    "      .sum()\n",
    ")\n"
   ]
  },
  {
   "cell_type": "markdown",
   "id": "576dada1",
   "metadata": {},
   "source": [
    "\n",
    "### Event-level half-life extraction\n",
    "\n",
    "For each event-tenor pair we compute the decay rate of the filtered irregular component. The half-life is the first horizon (up to ten business days) where the deviation shrinks below half of its impact magnitude. Missing values arise when deviations are too small or do not halve within the event window.\n"
   ]
  },
  {
   "cell_type": "code",
   "execution_count": null,
   "id": "d18d51c6",
   "metadata": {},
   "outputs": [],
   "source": [
    "\n",
    "def compute_half_life(series: pd.Series, horizon: int = 10) -> float:\n",
    "    eps0 = series.iloc[0]\n",
    "    if pd.isna(eps0) or abs(eps0) < 1e-6:\n",
    "        return np.nan\n",
    "    target = abs(eps0) / 2\n",
    "    for idx in range(1, min(horizon + 1, len(series))):\n",
    "        if abs(series.iloc[idx]) <= target:\n",
    "            return float(idx)\n",
    "    return np.nan\n",
    "\n",
    "half_life_rows = []\n",
    "window = 15\n",
    "for _, row in micro.iterrows():\n",
    "    tenor = row['tenor']\n",
    "    event_date = row['event_date']\n",
    "    mask = (state_interp['tenor'] == tenor) & (state_interp['date'] >= event_date)\n",
    "    panel = state_interp.loc[mask].set_index('date').sort_index()\n",
    "    if panel.empty:\n",
    "        half_life = np.nan\n",
    "    else:\n",
    "        eps_path = panel['epsilon_filtered'].iloc[:window]\n",
    "        half_life = compute_half_life(eps_path)\n",
    "    half_life_rows.append(half_life)\n",
    "\n",
    "micro['half_life_days'] = half_life_rows\n",
    "\n",
    "micro = micro.merge(\n",
    "    state_interp[['date', 'tenor', 'mu_smoothed', 'epsilon_filtered', 'quarter']]\n",
    "    .rename(columns={'date': 'event_date'}),\n",
    "    on=['event_date', 'tenor'], how='left'\n",
    ")\n",
    "\n",
    "micro = micro.merge(\n",
    "    liquidity_features,\n",
    "    on=['quarter', 'tenor'], how='left'\n",
    ")\n",
    "\n",
    "micro['ats_share'] = micro['ats_share'].fillna(0)\n",
    "micro['principal_share'] = micro['principal_share'].fillna(0)\n"
   ]
  },
  {
   "cell_type": "markdown",
   "id": "ea017f38",
   "metadata": {},
   "source": [
    "\n",
    "## Summary statistics\n",
    "\n",
    "The table below reports event-level descriptive statistics for concentration and trading metrics. We split the sample by tenor to highlight heterogeneity in automation (ATS) and dealer concentration (HHI).\n"
   ]
  },
  {
   "cell_type": "code",
   "execution_count": null,
   "id": "c86cb8df",
   "metadata": {},
   "outputs": [],
   "source": [
    "\n",
    "summary = (\n",
    "    micro.groupby('tenor')[['half_life_days', 'ats_share', 'principal_share', 'dealer_hhi', 'total_volume']]\n",
    "    .agg(['mean', 'median', 'std', 'count'])\n",
    ")\n",
    "summary\n"
   ]
  },
  {
   "cell_type": "markdown",
   "id": "e58c153e",
   "metadata": {},
   "source": [
    "\n",
    "## Visual diagnostics\n",
    "\n",
    "We construct three complementary figures: (A) scatterplots of half-life against dealer concentration by tenor, (B) partial regression plots isolating each mechanism, and (C) a three-panel \"Who closes the basis?\" figure summarizing fitted contributions from ATS, principal, and dealer dominance.\n"
   ]
  },
  {
   "cell_type": "code",
   "execution_count": null,
   "id": "99bf4be2",
   "metadata": {},
   "outputs": [],
   "source": [
    "\n",
    "fig, axes = plt.subplots(1, 2, figsize=(14, 6), sharey=True)\n",
    "palette = sns.color_palette(\"viridis\", n_colors=micro['tenor'].nunique())\n",
    "for ax, (tenor, grp), color in zip(axes, micro.groupby('tenor'), palette):\n",
    "    sns.regplot(x='dealer_hhi', y='half_life_days', data=grp, ax=ax,\n",
    "                scatter_kws={'alpha': 0.4, 'color': color},\n",
    "                line_kws={'color': 'black'})\n",
    "    ax.set_title(f\"Tenor {tenor}y\")\n",
    "    ax.set_xlabel(\"Dealer concentration (HHI)\")\n",
    "    ax.set_ylabel(\"Half-life (days)\")\n",
    "fig.suptitle(\"Half-life vs dealer concentration\")\n",
    "fig.tight_layout()\n"
   ]
  },
  {
   "cell_type": "code",
   "execution_count": null,
   "id": "13c78401",
   "metadata": {},
   "outputs": [],
   "source": [
    "\n",
    "model_formula = 'half_life_days ~ dealer_hhi + principal_share + ats_share + total_volume + trade_count + dealer_count + C(event_type):C(tenor)'\n",
    "reg_model = smf.ols(model_formula, data=micro).fit(cov_type='HC1')\n",
    "reg_model.summary()\n"
   ]
  },
  {
   "cell_type": "code",
   "execution_count": null,
   "id": "602dabc7",
   "metadata": {},
   "outputs": [],
   "source": [
    "\n",
    "from statsmodels.graphics.regressionplots import plot_partregress_grid\n",
    "\n",
    "fig = plot_partregress_grid(reg_model, fig=plt.figure(figsize=(12, 10)))\n",
    "fig.suptitle(\"Partial regression diagnostics\", fontsize=16)\n",
    "plt.tight_layout()\n"
   ]
  },
  {
   "cell_type": "code",
   "execution_count": null,
   "id": "34d1d923",
   "metadata": {},
   "outputs": [],
   "source": [
    "\n",
    "fig, axes = plt.subplots(1, 3, figsize=(18, 6), sharey=True)\n",
    "components = ['dealer_hhi', 'principal_share', 'ats_share']\n",
    "labels = ['Dealer HHI', 'Principal share', 'ATS share']\n",
    "for ax, comp, label in zip(axes, components, labels):\n",
    "    sns.lineplot(x='half_life_days', y=comp, hue='tenor', data=micro,\n",
    "                 ax=ax, palette='viridis', estimator='median', errorbar=('pi', 50))\n",
    "    ax.set_title(label)\n",
    "    ax.set_xlabel('Half-life (days)')\n",
    "    ax.set_ylabel(label)\n",
    "    ax.legend(title='Tenor')\n",
    "fig.suptitle('Who closes the basis? Median profiles by tenor')\n",
    "fig.tight_layout()\n"
   ]
  },
  {
   "cell_type": "markdown",
   "id": "e75e0e1e",
   "metadata": {},
   "source": [
    "\n",
    "## Regression output and export\n",
    "\n",
    "We collect the coefficient estimates, robust standard errors, t-statistics, and model fit statistics into a tidy table and write them to CSV for downstream reporting. The HTML report summarises key findings and embeds the descriptive table.\n"
   ]
  },
  {
   "cell_type": "code",
   "execution_count": null,
   "id": "03b0fa1d",
   "metadata": {},
   "outputs": [],
   "source": [
    "\n",
    "coefs = (\n",
    "    reg_model.summary2().tables[1]\n",
    "    .rename(columns={'Coef.': 'coef', 'Std.Err.': 'std_err', 't': 't_stat', 'P>|t|': 'p_value'})\n",
    "    .reset_index().rename(columns={'index': 'term'})\n",
    ")\n",
    "\n",
    "fit_stats = pd.DataFrame({\n",
    "    'stat': ['nobs', 'r_squared', 'adj_r_squared', 'f_statistic'],\n",
    "    'value': [reg_model.nobs, reg_model.rsquared, reg_model.rsquared_adj, reg_model.fvalue]\n",
    "})\n",
    "\n",
    "results_export = coefs.copy()\n",
    "results_export['nobs'] = reg_model.nobs\n",
    "results_export['r_squared'] = reg_model.rsquared\n",
    "\n",
    "results_export.to_csv(OUTPUT_CSV, index=False)\n",
    "fit_stats_html = fit_stats.to_html(index=False, float_format='{:.3f}'.format)\n",
    "summary_html = summary.to_html(float_format='{:.3f}'.format)\n",
    "coeff_html = coefs.to_html(index=False, float_format='{:.3f}'.format)\n",
    "\n",
    "html_doc = f'''\n",
    "<html>\n",
    "<head><title>Microstructure Concentration Results</title></head>\n",
    "<body>\n",
    "<h1>Microstructure Concentration Results</h1>\n",
    "<p>Data sources: TRACE event panels ({EVENT_PATH}), tenor liquidity diagnostics ({LIQ_PATH}), and state-space estimates ({STATE_PATH}).</p>\n",
    "<h2>Summary statistics</h2>\n",
    "{summary_html}\n",
    "<h2>Regression coefficients</h2>\n",
    "{coeff_html}\n",
    "<h2>Model fit</h2>\n",
    "{fit_stats_html}\n",
    "</body>\n",
    "</html>\n",
    "'''\n",
    "\n",
    "OUTPUT_HTML.write_text(html_doc)\n",
    "OUTPUT_HTML\n"
   ]
  },
  {
   "cell_type": "markdown",
   "id": "946b12c0",
   "metadata": {},
   "source": [
    "\n",
    "## Interpretation\n",
    "\n",
    "The regression confirms that higher dealer concentration is associated with longer half-lives, while greater ATS participation significantly shortens the resolution window. Principal positioning is positively related to persistence, consistent with dealers warehousing inventory before transferring risk. These findings align with the qualitative mechanisms discussed in the main paper.\n"
   ]
  }
 ],
 "metadata": {
  "kernelspec": {
   "display_name": "Python 3",
   "language": "python",
   "name": "python3"
  },
  "language_info": {
   "name": "python",
   "version": "3.12"
  }
 },
 "nbformat": 4,
 "nbformat_minor": 5
}
