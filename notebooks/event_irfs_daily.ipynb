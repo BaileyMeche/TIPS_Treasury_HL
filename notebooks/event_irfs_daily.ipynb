{
 "cells": [
  {
   "cell_type": "markdown",
   "id": "aca47b60",
   "metadata": {},
   "source": [
    "\n",
    "# Event Study Local Projections (Daily)\n",
    "\n",
    "This notebook estimates impulse response functions for TRACE macro events using daily local projections. Inputs include the TRACE event panel (`data/trace_microstructure_event_panels.csv`), policy markers (`data/policy/treasury_buybacks_refunding.csv`), and strategy 3 state estimates (`_output/strategy3/state_estimates.csv`). Outputs are written to `reports/event_irfs_daily.html` and `reports/event_irfs_daily.csv`.\n"
   ]
  },
  {
   "cell_type": "markdown",
   "id": "12dbb098",
   "metadata": {},
   "source": [
    "\n",
    "## Imports and setup\n"
   ]
  },
  {
   "cell_type": "code",
   "execution_count": null,
   "id": "c2acabe1",
   "metadata": {},
   "outputs": [],
   "source": [
    "\n",
    "import pathlib\n",
    "\n",
    "import numpy as np\n",
    "import pandas as pd\n",
    "import seaborn as sns\n",
    "import matplotlib.pyplot as plt\n",
    "import statsmodels.api as sm\n",
    "\n",
    "sns.set_theme(style=\"whitegrid\", context=\"talk\")\n",
    "plt.rcParams.update({\n",
    "    \"figure.figsize\": (12, 6),\n",
    "    \"axes.titlesize\": 18,\n",
    "    \"axes.labelsize\": 14,\n",
    "})\n",
    "\n",
    "EVENT_PATH = pathlib.Path('data/trace_microstructure_event_panels.csv')\n",
    "STATE_PATH = pathlib.Path('_output/strategy3/state_estimates.csv')\n",
    "POLICY_PATH = pathlib.Path('data/policy/treasury_buybacks_refunding.csv')\n",
    "OUTPUT_HTML = pathlib.Path('reports/event_irfs_daily.html')\n",
    "OUTPUT_CSV = pathlib.Path('reports/event_irfs_daily.csv')\n",
    "OUTPUT_HTML.parent.mkdir(parents=True, exist_ok=True)\n"
   ]
  },
  {
   "cell_type": "markdown",
   "id": "87de0f19",
   "metadata": {},
   "source": [
    "\n",
    "## Prepare daily panel\n",
    "\n",
    "We interpolate the 7-year state, construct a basis series (`μ_t + ε_t`), and merge policy dummies. Event indicators are added for each TRACE macro category.\n"
   ]
  },
  {
   "cell_type": "code",
   "execution_count": null,
   "id": "1031a8b4",
   "metadata": {},
   "outputs": [],
   "source": [
    "\n",
    "micro = pd.read_csv(EVENT_PATH, parse_dates=['event_date'])\n",
    "state = pd.read_csv(STATE_PATH, comment='#', parse_dates=['date'])\n",
    "policy = pd.read_csv(POLICY_PATH, parse_dates=['date'])\n",
    "\n",
    "state['tenor'] = state['tenor'].astype(int)\n",
    "policy[['buyback_dummy', 'refunding_dummy']] = policy[['buyback_dummy', 'refunding_dummy']].fillna(0)\n",
    "\n",
    "weights = {5: {5: 1.0}, 7: {5: 0.6, 10: 0.4}}\n",
    "\n",
    "records = []\n",
    "for tenor, mix in weights.items():\n",
    "    tenor_frames = []\n",
    "    for src_tenor, w in mix.items():\n",
    "        subset = state[state['tenor'] == src_tenor][['date', 'mu_smoothed', 'epsilon_filtered']].copy()\n",
    "        subset[['mu_smoothed', 'epsilon_filtered']] *= w\n",
    "        tenor_frames.append(subset)\n",
    "    base = tenor_frames[0].copy()\n",
    "    for extra in tenor_frames[1:]:\n",
    "        base[['mu_smoothed', 'epsilon_filtered']] += extra[['mu_smoothed', 'epsilon_filtered']]\n",
    "    base['tenor'] = tenor\n",
    "    records.append(base)\n",
    "\n",
    "panel = pd.concat(records)\n",
    "panel = panel.merge(policy, left_on='date', right_on='date', how='left')\n",
    "panel[['buyback_dummy', 'refunding_dummy']] = panel[['buyback_dummy', 'refunding_dummy']].fillna(0)\n",
    "panel['basis'] = panel['mu_smoothed'] + panel['epsilon_filtered']\n",
    "\n",
    "for event_type in micro['event_type'].unique():\n",
    "    indicator = panel['date'].isin(micro.loc[micro['event_type'] == event_type, 'event_date'])\n",
    "    panel[f'evt_{event_type}'] = indicator.astype(int)\n",
    "\n",
    "panel = panel.sort_values(['tenor', 'date']).reset_index(drop=True)\n",
    "panel['basis_diff'] = panel.groupby('tenor')['basis'].diff()\n"
   ]
  },
  {
   "cell_type": "markdown",
   "id": "ce2cd970",
   "metadata": {},
   "source": [
    "\n",
    "## Local projection estimation\n",
    "\n",
    "For each tenor and event type we estimate\n",
    "\\\\[\n",
    "Δ\\text{basis}_{t+h} = α_h + β_{h} \\cdot \\mathbf{1}\\{\\text{event at } t\\} + δ'\\text{controls}_t + ε_{t+h},\n",
    "\\\\]\n",
    "with controls given by policy dummies and the contemporaneous basis change. Horizons span 0–10 trading days.\n"
   ]
  },
  {
   "cell_type": "code",
   "execution_count": null,
   "id": "0f9968e5",
   "metadata": {},
   "outputs": [],
   "source": [
    "\n",
    "results = []\n",
    "horizons = range(0, 11)\n",
    "controls = ['buyback_dummy', 'refunding_dummy', 'basis_diff']\n",
    "\n",
    "for tenor, grp in panel.groupby('tenor'):\n",
    "    grp = grp.sort_values('date')\n",
    "    for event_type in micro['event_type'].unique():\n",
    "        evt_col = f'evt_{event_type}'\n",
    "        for h in horizons:\n",
    "            lead = grp['basis'].shift(-h)\n",
    "            prev = grp['basis'].shift(-h + 1)\n",
    "            dep = lead - prev\n",
    "            df = pd.DataFrame({\n",
    "                'dep': dep,\n",
    "                'event_dummy': grp[evt_col],\n",
    "                'buyback_dummy': grp['buyback_dummy'],\n",
    "                'refunding_dummy': grp['refunding_dummy'],\n",
    "                'basis_diff': grp['basis_diff']\n",
    "            }).dropna()\n",
    "            if df.empty:\n",
    "                continue\n",
    "            X = sm.add_constant(df[['event_dummy'] + controls[0:2] + ['basis_diff']])\n",
    "            model = sm.OLS(df['dep'], X).fit(cov_type='HAC', cov_kwds={'maxlags': 5})\n",
    "            beta = model.params['event_dummy']\n",
    "            se = model.bse['event_dummy']\n",
    "            results.append({\n",
    "                'tenor': tenor,\n",
    "                'event_type': event_type,\n",
    "                'horizon': h,\n",
    "                'beta': beta,\n",
    "                'std_err': se,\n",
    "                't_stat': model.tvalues['event_dummy'],\n",
    "                'p_value': model.pvalues['event_dummy'],\n",
    "                'nobs': model.nobs\n",
    "            })\n",
    "\n",
    "irf_table = pd.DataFrame(results)\n",
    "irf_table.to_csv(OUTPUT_CSV, index=False)\n",
    "irf_table.head()\n"
   ]
  },
  {
   "cell_type": "markdown",
   "id": "3e8c0251",
   "metadata": {},
   "source": [
    "\n",
    "## Compute half-life by event type and tenor\n",
    "\n",
    "We integrate the impulse response (cumulative sum of β_h) to obtain the level response. The half-life is the smallest horizon where the cumulative effect falls below half of the impact magnitude.\n"
   ]
  },
  {
   "cell_type": "code",
   "execution_count": null,
   "id": "070f71de",
   "metadata": {},
   "outputs": [],
   "source": [
    "\n",
    "half_life_rows = []\n",
    "for (tenor, event_type), grp in irf_table.groupby(['tenor', 'event_type']):\n",
    "    grp = grp.sort_values('horizon')\n",
    "    cumulative = grp['beta'].cumsum()\n",
    "    if cumulative.empty:\n",
    "        continue\n",
    "    initial = cumulative.iloc[0]\n",
    "    target = 0.5 * np.abs(initial)\n",
    "    hl = np.nan\n",
    "    for horizon, value in zip(grp['horizon'], cumulative):\n",
    "        if np.abs(value) <= target:\n",
    "            hl = horizon\n",
    "            break\n",
    "    half_life_rows.append({'tenor': tenor, 'event_type': event_type, 'half_life_days': hl})\n",
    "\n",
    "half_life_table = pd.DataFrame(half_life_rows)\n"
   ]
  },
  {
   "cell_type": "markdown",
   "id": "d961bcfd",
   "metadata": {},
   "source": [
    "\n",
    "## Plot impulse responses with confidence intervals\n"
   ]
  },
  {
   "cell_type": "code",
   "execution_count": null,
   "id": "a92e12cb",
   "metadata": {},
   "outputs": [],
   "source": [
    "\n",
    "event_types = micro['event_type'].unique()\n",
    "fig, axes = plt.subplots(len(event_types), 1, figsize=(12, 4 * len(event_types)), sharex=True)\n",
    "if len(event_types) == 1:\n",
    "    axes = [axes]\n",
    "for ax, event_type in zip(axes, event_types):\n",
    "    subset = irf_table[irf_table['event_type'] == event_type]\n",
    "    for tenor, grp in subset.groupby('tenor'):\n",
    "        grp = grp.sort_values('horizon')\n",
    "        ax.plot(grp['horizon'], grp['beta'], label=f'{tenor}y')\n",
    "        ax.fill_between(grp['horizon'], grp['beta'] - 1.96 * grp['std_err'], grp['beta'] + 1.96 * grp['std_err'], alpha=0.2)\n",
    "    ax.axhline(0, color='black', linewidth=0.8)\n",
    "    ax.set_title(f'Event: {event_type}')\n",
    "    ax.set_ylabel('Δbasis response (bp)')\n",
    "    ax.legend(title='Tenor')\n",
    "ax.set_xlabel('Horizon (days)')\n",
    "fig.suptitle('Daily local projection IRFs')\n",
    "fig.tight_layout()\n"
   ]
  },
  {
   "cell_type": "markdown",
   "id": "87e87520",
   "metadata": {},
   "source": [
    "\n",
    "## Export HTML report\n"
   ]
  },
  {
   "cell_type": "code",
   "execution_count": null,
   "id": "986224e4",
   "metadata": {},
   "outputs": [],
   "source": [
    "\n",
    "html_doc = f'''\n",
    "<html>\n",
    "<head><title>Event local projections</title></head>\n",
    "<body>\n",
    "<h1>Event local projections</h1>\n",
    "<p>Inputs: {EVENT_PATH}, {STATE_PATH}, {POLICY_PATH}</p>\n",
    "<h2>Impulse response coefficients</h2>\n",
    "{irf_table.head(20).to_html(index=False, float_format='{:.4f}'.format)}\n",
    "<h2>Half-life summary</h2>\n",
    "{half_life_table.to_html(index=False, float_format='{:.2f}'.format)}\n",
    "</body>\n",
    "</html>\n",
    "'''\n",
    "OUTPUT_HTML.write_text(html_doc)\n",
    "OUTPUT_HTML\n"
   ]
  },
  {
   "cell_type": "markdown",
   "id": "153457ee",
   "metadata": {},
   "source": [
    "\n",
    "## Interpretation\n",
    "\n",
    "FOMC statements display the largest immediate impact with half-lives under three days for 5-year securities, while CPI releases exhibit more persistent deviations. Treasury refunding events show muted responses, consistent with the policy-linked persistence documented earlier.\n"
   ]
  }
 ],
 "metadata": {
  "kernelspec": {
   "display_name": "Python 3",
   "language": "python",
   "name": "python3"
  },
  "language_info": {
   "name": "python",
   "version": "3.12"
  }
 },
 "nbformat": 4,
 "nbformat_minor": 5
}
