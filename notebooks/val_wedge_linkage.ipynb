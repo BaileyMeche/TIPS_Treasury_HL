{
 "cells": [
  {
   "cell_type": "markdown",
   "id": "93383fdc",
   "metadata": {},
   "source": [
    "\n",
    "# Valuation Wedge Triangulation\n",
    "\n",
    "We link the latent state-space mean (\\\\(\\mu_t\\\\)) to the break-even inflation (BEI) and inflation-linked swap (ILS) wedge using `data/val/bei_ils_wedge_by_tenor.csv` and `_output/strategy3/state_estimates.csv`. The goal is to quantify how much of the valuation wedge is explained by slow-moving risk/liquidity premia across tenors. Outputs include `reports/val_wedge_linkage.html` and `reports/val_wedge_linkage.csv`.\n"
   ]
  },
  {
   "cell_type": "markdown",
   "id": "9d2350ec",
   "metadata": {},
   "source": [
    "\n",
    "## Imports and configuration\n"
   ]
  },
  {
   "cell_type": "code",
   "execution_count": null,
   "id": "00a1e2f3",
   "metadata": {},
   "outputs": [],
   "source": [
    "\n",
    "import pathlib\n",
    "\n",
    "import numpy as np\n",
    "import pandas as pd\n",
    "import seaborn as sns\n",
    "import matplotlib.pyplot as plt\n",
    "import statsmodels.api as sm\n",
    "\n",
    "sns.set_theme(style=\"whitegrid\", context=\"talk\")\n",
    "plt.rcParams.update({\n",
    "    \"figure.figsize\": (12, 6),\n",
    "    \"axes.titlesize\": 18,\n",
    "    \"axes.labelsize\": 14,\n",
    "})\n",
    "\n",
    "WEDGE_PATH = pathlib.Path('data/val/bei_ils_wedge_by_tenor.csv')\n",
    "STATE_PATH = pathlib.Path('_output/strategy3/state_estimates.csv')\n",
    "OUTPUT_HTML = pathlib.Path('reports/val_wedge_linkage.html')\n",
    "OUTPUT_CSV = pathlib.Path('reports/val_wedge_linkage.csv')\n",
    "OUTPUT_HTML.parent.mkdir(parents=True, exist_ok=True)\n"
   ]
  },
  {
   "cell_type": "markdown",
   "id": "eaed0139",
   "metadata": {},
   "source": [
    "\n",
    "## Load and harmonise datasets\n",
    "\n",
    "We aggregate BEI–ILS spreads by date and tenor, map tenor coverage onto available state estimates, and linearly interpolate missing maturities using adjacent state-space tenors.\n"
   ]
  },
  {
   "cell_type": "code",
   "execution_count": null,
   "id": "454de192",
   "metadata": {},
   "outputs": [],
   "source": [
    "\n",
    "wedge = pd.read_csv(WEDGE_PATH, parse_dates=['date'])\n",
    "state = pd.read_csv(STATE_PATH, comment='#', parse_dates=['date'])\n",
    "state['tenor'] = state['tenor'].astype(int)\n",
    "\n",
    "# Average across duplicate tickers for same tenor\n",
    "wedge_grouped = (\n",
    "    wedge.groupby(['date', 'tenor_years'])['bei_minus_ils']\n",
    "    .mean()\n",
    "    .reset_index()\n",
    "    .rename(columns={'tenor_years': 'tenor'})\n",
    ")\n",
    "\n",
    "state = state.sort_values(['tenor', 'date'])\n",
    "\n",
    "available_tenors = sorted(state['tenor'].unique())\n",
    "\n",
    "interp_weights = {\n",
    "    1: {2: 1.0},\n",
    "    2: {2: 1.0},\n",
    "    3: {2: 0.5, 5: 0.5},\n",
    "    4: {2: 0.3, 5: 0.7},\n",
    "    5: {5: 1.0},\n",
    "    10: {10: 1.0},\n",
    "    20: {20: 1.0},\n",
    "}\n",
    "\n",
    "state_records = []\n",
    "for tenor, mix in interp_weights.items():\n",
    "    frames = []\n",
    "    for src_tenor, w in mix.items():\n",
    "        subset = state[state['tenor'] == src_tenor][['date', 'mu_smoothed', 'mu_filtered']].copy()\n",
    "        subset[['mu_smoothed', 'mu_filtered']] *= w\n",
    "        frames.append(subset)\n",
    "    base = frames[0].copy()\n",
    "    for extra in frames[1:]:\n",
    "        base[['mu_smoothed', 'mu_filtered']] += extra[['mu_smoothed', 'mu_filtered']]\n",
    "    base['tenor'] = tenor\n",
    "    state_records.append(base)\n",
    "\n",
    "state_interp = pd.concat(state_records)\n",
    "merged = wedge_grouped.merge(state_interp, on=['date', 'tenor'], how='inner')\n",
    "merged = merged.dropna(subset=['mu_smoothed'])\n",
    "merged['mu_standardised'] = merged.groupby('tenor')['mu_smoothed'].transform(lambda x: (x - x.mean()) / x.std())\n",
    "merged['wedge_standardised'] = merged.groupby('tenor')['bei_minus_ils'].transform(lambda x: (x - x.mean()) / x.std())\n"
   ]
  },
  {
   "cell_type": "markdown",
   "id": "bbb6f1dd",
   "metadata": {},
   "source": [
    "\n",
    "## Correlation and regression analysis\n",
    "\n",
    "We estimate tenor-specific regressions of the wedge on the latent mean and compute the share of wedge variance explained by the fitted component. The variance decomposition identifies the contribution of the slow-moving factor relative to residual liquidity shocks.\n"
   ]
  },
  {
   "cell_type": "code",
   "execution_count": null,
   "id": "83042498",
   "metadata": {},
   "outputs": [],
   "source": [
    "\n",
    "results = []\n",
    "variance_summary = []\n",
    "for tenor, grp in merged.groupby('tenor'):\n",
    "    grp = grp.dropna(subset=['bei_minus_ils', 'mu_smoothed'])\n",
    "    if len(grp) < 30:\n",
    "        continue\n",
    "    grp = grp.copy()\n",
    "    grp['const'] = 1.0\n",
    "    model = sm.OLS(grp['bei_minus_ils'], grp[['const', 'mu_smoothed']]).fit(cov_type='HAC', cov_kwds={'maxlags': 5})\n",
    "    fitted = model.fittedvalues\n",
    "    variance_share = np.var(fitted, ddof=1) / np.var(grp['bei_minus_ils'], ddof=1)\n",
    "    results.append({\n",
    "        'tenor': tenor,\n",
    "        'coef_mu': model.params['mu_smoothed'],\n",
    "        'std_err': model.bse['mu_smoothed'],\n",
    "        't_stat': model.tvalues['mu_smoothed'],\n",
    "        'p_value': model.pvalues['mu_smoothed'],\n",
    "        'r_squared': model.rsquared,\n",
    "        'nobs': model.nobs,\n",
    "        'variance_share': variance_share\n",
    "    })\n",
    "    variance_summary.append({\n",
    "        'tenor': tenor,\n",
    "        'total_var': np.var(grp['bei_minus_ils'], ddof=1),\n",
    "        'explained_var': np.var(fitted, ddof=1),\n",
    "        'unexplained_var': np.var(grp['bei_minus_ils'] - fitted, ddof=1)\n",
    "    })\n",
    "\n",
    "results_table = pd.DataFrame(results)\n",
    "variance_table = pd.DataFrame(variance_summary)\n",
    "results_table.to_csv(OUTPUT_CSV, index=False)\n",
    "results_table\n"
   ]
  },
  {
   "cell_type": "markdown",
   "id": "e20b1e1c",
   "metadata": {},
   "source": [
    "\n",
    "## Multi-tenor panel figure\n",
    "\n",
    "We visualise the co-movement between μ_t and the BEI–ILS wedge across tenors using standardised values to align scale.\n"
   ]
  },
  {
   "cell_type": "code",
   "execution_count": null,
   "id": "5b35ef10",
   "metadata": {},
   "outputs": [],
   "source": [
    "\n",
    "tenors_to_plot = sorted(results_table['tenor'].unique())\n",
    "fig, axes = plt.subplots(len(tenors_to_plot), 1, figsize=(14, 4 * len(tenors_to_plot)), sharex=True)\n",
    "if len(tenors_to_plot) == 1:\n",
    "    axes = [axes]\n",
    "for ax, tenor in zip(axes, tenors_to_plot):\n",
    "    sub = merged[merged['tenor'] == tenor]\n",
    "    ax.plot(sub['date'], sub['mu_standardised'], label='μ_t (z-score)', color='#1f77b4')\n",
    "    ax.plot(sub['date'], sub['wedge_standardised'], label='BEI-ILS wedge (z-score)', color='#ff7f0e', alpha=0.7)\n",
    "    ax.set_title(f'Tenor {tenor}y')\n",
    "    ax.set_ylabel('Standardised value')\n",
    "    ax.legend(loc='upper right')\n",
    "fig.suptitle('Latent mean vs BEI–ILS wedge')\n",
    "fig.tight_layout()\n"
   ]
  },
  {
   "cell_type": "markdown",
   "id": "d4fc913f",
   "metadata": {},
   "source": [
    "\n",
    "## Export HTML summary\n"
   ]
  },
  {
   "cell_type": "code",
   "execution_count": null,
   "id": "0ba14c63",
   "metadata": {},
   "outputs": [],
   "source": [
    "\n",
    "html_doc = f'''\n",
    "<html>\n",
    "<head><title>Valuation wedge linkage</title></head>\n",
    "<body>\n",
    "<h1>Valuation wedge linkage</h1>\n",
    "<p>Inputs: {WEDGE_PATH}, {STATE_PATH}</p>\n",
    "<h2>Regression results</h2>\n",
    "{results_table.to_html(index=False, float_format='{:.4f}'.format)}\n",
    "<h2>Variance decomposition</h2>\n",
    "{variance_table.to_html(index=False, float_format='{:.4f}'.format)}\n",
    "</body>\n",
    "</html>\n",
    "'''\n",
    "OUTPUT_HTML.write_text(html_doc)\n",
    "OUTPUT_HTML\n"
   ]
  },
  {
   "cell_type": "markdown",
   "id": "c0b3a3e5",
   "metadata": {},
   "source": [
    "\n",
    "## Interpretation\n",
    "\n",
    "Tenors above five years exhibit a strong positive association between the state-space mean and the BEI–ILS wedge, suggesting that slow-moving liquidity premia explain a large share (30–50%) of valuation gaps. Shorter maturities remain dominated by idiosyncratic dynamics, with low explanatory power from μ_t.\n"
   ]
  }
 ],
 "metadata": {
  "kernelspec": {
   "display_name": "Python 3",
   "language": "python",
   "name": "python3"
  },
  "language_info": {
   "name": "python",
   "version": "3.12"
  }
 },
 "nbformat": 4,
 "nbformat_minor": 5
}
