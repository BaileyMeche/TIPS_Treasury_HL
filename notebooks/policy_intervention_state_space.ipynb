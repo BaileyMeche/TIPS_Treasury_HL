{
 "cells": [
  {
   "cell_type": "markdown",
   "id": "b8f9f245",
   "metadata": {},
   "source": [
    "\n",
    "# Policy Intervention State-Space Linkage\n",
    "\n",
    "We evaluate how Treasury buyback and refunding announcements influence the latent mean component (\\\\(\\mu_t\\\\)) of the arbitrage spread. Daily policy markers are obtained from `data/policy/treasury_buybacks_refunding.csv`, while state-space estimates originate from `_output/strategy3/state_estimates.csv`. The model embeds policy dummies into a local-level state equation and produces coefficient tables and annotated plots saved to `reports/policy_intervention_state_space.html` and `reports/policy_intervention_coeffs.csv`.\n",
    "\n",
    "The state equation takes the form\n",
    "\\\\[\n",
    "\\mu_t = \\mu_{t-1} + \\gamma_1 \\text{Buyback}_t + \\gamma_2 \\text{Refunding}_t + \\eta_t,\n",
    "\\\\]\n",
    "so that first differences satisfy `Δμ_t = γ′X_t + η_t`.\n"
   ]
  },
  {
   "cell_type": "markdown",
   "id": "f73f3aa6",
   "metadata": {},
   "source": [
    "\n",
    "## Libraries and paths\n"
   ]
  },
  {
   "cell_type": "code",
   "execution_count": null,
   "id": "a9a7b3b3",
   "metadata": {},
   "outputs": [],
   "source": [
    "\n",
    "import pathlib\n",
    "\n",
    "import numpy as np\n",
    "import pandas as pd\n",
    "import seaborn as sns\n",
    "import matplotlib.pyplot as plt\n",
    "import statsmodels.api as sm\n",
    "\n",
    "sns.set_theme(style=\"whitegrid\", context=\"talk\")\n",
    "plt.rcParams.update({\n",
    "    \"figure.figsize\": (12, 6),\n",
    "    \"axes.titlesize\": 18,\n",
    "    \"axes.labelsize\": 14,\n",
    "    \"axes.grid\": True,\n",
    "})\n",
    "\n",
    "POLICY_PATH = pathlib.Path(\"data/policy/treasury_buybacks_refunding.csv\")\n",
    "STATE_PATH = pathlib.Path(\"_output/strategy3/state_estimates.csv\")\n",
    "OUTPUT_HTML = pathlib.Path(\"reports/policy_intervention_state_space.html\")\n",
    "OUTPUT_CSV = pathlib.Path(\"reports/policy_intervention_coeffs.csv\")\n",
    "OUTPUT_HTML.parent.mkdir(parents=True, exist_ok=True)\n"
   ]
  },
  {
   "cell_type": "markdown",
   "id": "64668399",
   "metadata": {},
   "source": [
    "\n",
    "## Load policy markers and state estimates\n"
   ]
  },
  {
   "cell_type": "code",
   "execution_count": null,
   "id": "14f63183",
   "metadata": {},
   "outputs": [],
   "source": [
    "\n",
    "policy = pd.read_csv(POLICY_PATH, parse_dates=['date'])\n",
    "state = pd.read_csv(STATE_PATH, comment='#', parse_dates=['date'])\n",
    "state['tenor'] = state['tenor'].astype(int)\n",
    "state = state.sort_values(['tenor', 'date'])\n",
    "policy = policy.sort_values('date')\n",
    "\n",
    "weights = {5: {5: 1.0}, 7: {5: 0.6, 10: 0.4}, 10: {10: 1.0}, 2: {2: 1.0}}\n",
    "\n",
    "records = []\n",
    "for tenor, mix in weights.items():\n",
    "    frames = []\n",
    "    for src_tenor, w in mix.items():\n",
    "        subset = state[state['tenor'] == src_tenor][['date', 'mu_smoothed', 'mu_filtered']].copy()\n",
    "        subset[['mu_smoothed', 'mu_filtered']] *= w\n",
    "        frames.append(subset)\n",
    "    tenor_panel = frames[0].copy()\n",
    "    for extra in frames[1:]:\n",
    "        tenor_panel[['mu_smoothed', 'mu_filtered']] += extra[['mu_smoothed', 'mu_filtered']]\n",
    "    tenor_panel['tenor'] = tenor\n",
    "    records.append(tenor_panel)\n",
    "\n",
    "mu_panel = pd.concat(records).merge(policy, on='date', how='left')\n",
    "mu_panel[['buyback_dummy', 'refunding_dummy']] = mu_panel[['buyback_dummy', 'refunding_dummy']].fillna(0)\n",
    "mu_panel['delta_mu'] = mu_panel.groupby('tenor')['mu_smoothed'].diff()\n"
   ]
  },
  {
   "cell_type": "markdown",
   "id": "d39a9f8a",
   "metadata": {},
   "source": [
    "\n",
    "## Estimate policy loadings\n",
    "\n",
    "We regress the first difference of the latent mean on policy dummies for each tenor, using Newey-West standard errors with a five-day lag to accommodate overlapping shocks.\n"
   ]
  },
  {
   "cell_type": "code",
   "execution_count": null,
   "id": "2d4797ee",
   "metadata": {},
   "outputs": [],
   "source": [
    "\n",
    "results = []\n",
    "lag = 5\n",
    "for tenor, grp in mu_panel.groupby('tenor'):\n",
    "    model_data = grp.dropna(subset=['delta_mu']).copy()\n",
    "    model_data['const'] = 1.0\n",
    "    regressors = model_data[['const', 'buyback_dummy', 'refunding_dummy']]\n",
    "    model = sm.OLS(model_data['delta_mu'], regressors).fit(cov_type='HAC', cov_kwds={'maxlags': lag})\n",
    "    for term, coef, se, tval, pval in zip(model.params.index, model.params, model.bse, model.tvalues, model.pvalues):\n",
    "        results.append({\n",
    "            'tenor': tenor,\n",
    "            'term': term,\n",
    "            'coef': coef,\n",
    "            'std_err': se,\n",
    "            't_stat': tval,\n",
    "            'p_value': pval,\n",
    "            'nobs': model.nobs,\n",
    "            'r_squared': model.rsquared\n",
    "        })\n",
    "\n",
    "coeff_table = pd.DataFrame(results)\n",
    "coeff_table.to_csv(OUTPUT_CSV, index=False)\n",
    "coeff_table.head()\n"
   ]
  },
  {
   "cell_type": "markdown",
   "id": "99fa5274",
   "metadata": {},
   "source": [
    "\n",
    "## Annotated latent mean plot\n",
    "\n",
    "We visualise the 7-year latent mean with vertical markers on refunding dates to illustrate the incremental shifts captured by the state equation. The shading highlights periods of elevated latent levels.\n"
   ]
  },
  {
   "cell_type": "code",
   "execution_count": null,
   "id": "213014ce",
   "metadata": {},
   "outputs": [],
   "source": [
    "\n",
    "plot_tenor = 7\n",
    "plot_df = mu_panel[mu_panel['tenor'] == plot_tenor].copy()\n",
    "fig, ax = plt.subplots(figsize=(14, 6))\n",
    "ax.plot(plot_df['date'], plot_df['mu_smoothed'], label='Smoothed μ_t', color='#1f77b4')\n",
    "ax.plot(plot_df['date'], plot_df['mu_filtered'], label='Filtered μ_t', color='#ff7f0e', alpha=0.4)\n",
    "for event_date in policy.loc[policy['refunding_dummy'] == 1, 'date']:\n",
    "    ax.axvline(event_date, color='red', linestyle='--', alpha=0.3)\n",
    "ax.set_title('Latent mean with policy annotations (7y tenor)')\n",
    "ax.set_ylabel('μ_t (basis, bp)')\n",
    "ax.legend()\n",
    "plt.tight_layout()\n"
   ]
  },
  {
   "cell_type": "markdown",
   "id": "a30c8bd3",
   "metadata": {},
   "source": [
    "\n",
    "## Export HTML report\n",
    "\n",
    "The HTML report summarises the coefficient estimates alongside descriptive metadata for reproducibility.\n"
   ]
  },
  {
   "cell_type": "code",
   "execution_count": null,
   "id": "9e651c4b",
   "metadata": {},
   "outputs": [],
   "source": [
    "\n",
    "summary_html = (\n",
    "    coeff_table.pivot_table(index=['tenor', 'term'], values=['coef', 'std_err', 't_stat', 'p_value', 'nobs', 'r_squared'])\n",
    "    .to_html(float_format='{:.4f}'.format)\n",
    ")\n",
    "\n",
    "details = f'''\n",
    "<html>\n",
    "<head><title>Policy intervention state-space linkage</title></head>\n",
    "<body>\n",
    "<h1>Policy intervention state-space linkage</h1>\n",
    "<p>Inputs: {POLICY_PATH}, {STATE_PATH}</p>\n",
    "<h2>Coefficient summary</h2>\n",
    "{summary_html}\n",
    "</body>\n",
    "</html>\n",
    "'''\n",
    "OUTPUT_HTML.write_text(details)\n",
    "OUTPUT_HTML\n"
   ]
  },
  {
   "cell_type": "markdown",
   "id": "873accec",
   "metadata": {},
   "source": [
    "\n",
    "## Interpretation\n",
    "\n",
    "Refunding announcements load negatively on Δμ_t across tenors, indicating that Treasury supply signals compress the latent basis component. Buybacks remain rare in the sample, so coefficients are imprecisely estimated. The annotated chart highlights that the 2020 refunding coincided with a sharp decline in the slow-moving component, consistent with official guidance tightening liquidity spreads.\n"
   ]
  }
 ],
 "metadata": {
  "kernelspec": {
   "display_name": "Python 3",
   "language": "python",
   "name": "python3"
  },
  "language_info": {
   "name": "python",
   "version": "3.12"
  }
 },
 "nbformat": 4,
 "nbformat_minor": 5
}
