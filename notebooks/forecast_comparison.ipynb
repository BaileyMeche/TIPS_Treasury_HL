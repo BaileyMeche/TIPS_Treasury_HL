{
 "cells": [
  {
   "cell_type": "markdown",
   "id": "e340a9dd",
   "metadata": {},
   "source": [
    "\n",
    "# Forecast Comparison: AR Benchmark vs Policy-Enhanced State-Space\n",
    "\n",
    "We compare one-step-ahead forecast accuracy for the latent mean component using two models: (a) an AR(1) benchmark and (b) a state-space specification augmented with policy and liquidity covariates. Inputs include state estimates (`_output/strategy3/state_estimates.csv`), policy markers (`data/policy/treasury_buybacks_refunding.csv`), and liquidity diagnostics (`data/tenor_liq.csv`). Outputs are stored in `reports/forecast_comparison.html` and `reports/forecast_rmsfe.csv`.\n"
   ]
  },
  {
   "cell_type": "markdown",
   "id": "d7149fe9",
   "metadata": {},
   "source": [
    "\n",
    "## Import dependencies\n"
   ]
  },
  {
   "cell_type": "code",
   "execution_count": null,
   "id": "52464371",
   "metadata": {},
   "outputs": [],
   "source": [
    "\n",
    "import pathlib\n",
    "\n",
    "import numpy as np\n",
    "import pandas as pd\n",
    "import seaborn as sns\n",
    "import matplotlib.pyplot as plt\n",
    "import statsmodels.api as sm\n",
    "from statsmodels.tsa.ar_model import AutoReg\n",
    "\n",
    "sns.set_theme(style=\"whitegrid\", context=\"talk\")\n",
    "plt.rcParams.update({\n",
    "    \"figure.figsize\": (12, 6),\n",
    "    \"axes.titlesize\": 18,\n",
    "    \"axes.labelsize\": 14,\n",
    "})\n",
    "\n",
    "STATE_PATH = pathlib.Path('_output/strategy3/state_estimates.csv')\n",
    "POLICY_PATH = pathlib.Path('data/policy/treasury_buybacks_refunding.csv')\n",
    "LIQ_PATH = pathlib.Path('data/tenor_liq.csv')\n",
    "OUTPUT_HTML = pathlib.Path('reports/forecast_comparison.html')\n",
    "OUTPUT_CSV = pathlib.Path('reports/forecast_rmsfe.csv')\n",
    "OUTPUT_HTML.parent.mkdir(parents=True, exist_ok=True)\n"
   ]
  },
  {
   "cell_type": "markdown",
   "id": "15d1890a",
   "metadata": {},
   "source": [
    "\n",
    "## Data preparation\n",
    "\n",
    "We combine state estimates with policy dummies and quarterly liquidity metrics. Liquidity controls are forward-filled within each tenor to daily frequency.\n"
   ]
  },
  {
   "cell_type": "code",
   "execution_count": null,
   "id": "ea824607",
   "metadata": {},
   "outputs": [],
   "source": [
    "\n",
    "state = pd.read_csv(STATE_PATH, comment='#', parse_dates=['date'])\n",
    "policy = pd.read_csv(POLICY_PATH, parse_dates=['date'])\n",
    "liq = pd.read_csv(LIQ_PATH, parse_dates=['qdate'])\n",
    "\n",
    "state['tenor'] = state['tenor'].astype(int)\n",
    "policy = policy.sort_values('date')\n",
    "liq['tenor_bucket'] = liq['tenor_bucket'].astype(int)\n",
    "liq['quarter'] = liq['qdate'].dt.to_period('Q')\n",
    "state['quarter'] = state['date'].dt.to_period('Q')\n",
    "policy[['buyback_dummy', 'refunding_dummy']] = policy[['buyback_dummy', 'refunding_dummy']].fillna(0)\n",
    "\n",
    "liq_features = (\n",
    "    liq.groupby(['quarter', 'tenor_bucket'])\n",
    "       .agg({'bid_ask_spread': 'mean', 'liq_hhi': 'mean'})\n",
    "       .rename_axis(index={'tenor_bucket': 'tenor'})\n",
    "       .reset_index()\n",
    ")\n",
    "\n",
    "state = state.merge(policy, on='date', how='left').merge(\n",
    "    liq_features, on=['quarter', 'tenor'], how='left'\n",
    ")\n",
    "state[['buyback_dummy', 'refunding_dummy']] = state[['buyback_dummy', 'refunding_dummy']].fillna(0)\n",
    "state[['bid_ask_spread', 'liq_hhi']] = state.groupby('tenor')[['bid_ask_spread', 'liq_hhi']].fillna(method='ffill')\n",
    "state['regime'] = np.where(state['regime_1_prob'].fillna(0.0) > 0.5, 'Slow', 'Fast')\n"
   ]
  },
  {
   "cell_type": "markdown",
   "id": "7f5b9329",
   "metadata": {},
   "source": [
    "\n",
    "## Forecast models\n",
    "\n",
    "We estimate an AR(1) on μ_t and a policy-enhanced model based on the differenced state equation\n",
    "\\\\[\n",
    "Δμ_t = γ_0 + γ_1 \\text{Buyback}_t + γ_2 \\text{Refunding}_t + γ_3 \\text{BidAsk}_t + γ_4 \\text{LiquidityHHI}_t + ε_t.\n",
    "\\\\]\n",
    "The state-space forecast is `μ̂_t = μ_{t-1} + γ′X_t`. We compute RMSE and MAE overall and by regime.\n"
   ]
  },
  {
   "cell_type": "code",
   "execution_count": null,
   "id": "6fba0ec7",
   "metadata": {},
   "outputs": [],
   "source": [
    "\n",
    "forecast_records = []\n",
    "metrics = []\n",
    "for tenor, grp in state.groupby('tenor'):\n",
    "    grp = grp.sort_values('date').copy()\n",
    "    if grp['mu_smoothed'].notna().sum() < 200:\n",
    "        continue\n",
    "    mu = grp['mu_smoothed']\n",
    "    ar_model = AutoReg(mu, lags=1, old_names=False).fit()\n",
    "    ar_pred = ar_model.predict(start=1, end=len(mu))\n",
    "    ar_error = mu.iloc[1:].values - ar_pred\n",
    "\n",
    "    regress_df = grp.copy()\n",
    "    regress_df['delta_mu'] = regress_df['mu_smoothed'].diff()\n",
    "    regress_df = regress_df.dropna(subset=['delta_mu'])\n",
    "    X = regress_df[['buyback_dummy', 'refunding_dummy', 'bid_ask_spread', 'liq_hhi']]\n",
    "    X = sm.add_constant(X)\n",
    "    policy_model = sm.OLS(regress_df['delta_mu'], X).fit(cov_type='HAC', cov_kwds={'maxlags': 5})\n",
    "    coef = policy_model.params\n",
    "\n",
    "    preds = X @ coef\n",
    "    policy_forecast = regress_df['mu_smoothed'].shift(1) + preds\n",
    "    policy_error = regress_df['mu_smoothed'] - policy_forecast\n",
    "\n",
    "    grp = grp.assign(\n",
    "        ar_pred=np.nan,\n",
    "        policy_pred=np.nan,\n",
    "    )\n",
    "    grp.loc[grp.index[1:], 'ar_pred'] = ar_pred\n",
    "    grp.loc[regress_df.index, 'policy_pred'] = policy_forecast\n",
    "\n",
    "    grp['ar_error'] = grp['mu_smoothed'] - grp['ar_pred']\n",
    "    grp['policy_error'] = grp['mu_smoothed'] - grp['policy_pred']\n",
    "\n",
    "    for model in ['ar', 'policy']:\n",
    "        err_col = f'{model}_error'\n",
    "        errs = grp[err_col].dropna()\n",
    "        rmsfe = np.sqrt(np.mean(errs ** 2))\n",
    "        mae = np.mean(np.abs(errs))\n",
    "        metrics.append({'tenor': tenor, 'model': model.upper(), 'regime': 'All', 'rmse': rmsfe, 'mae': mae, 'n': len(errs)})\n",
    "        for regime, sub in grp.groupby('regime'):\n",
    "            errs_reg = sub[err_col].dropna()\n",
    "            if errs_reg.empty:\n",
    "                continue\n",
    "            metrics.append({'tenor': tenor, 'model': model.upper(), 'regime': regime, 'rmse': np.sqrt(np.mean(errs_reg ** 2)), 'mae': np.mean(np.abs(errs_reg)), 'n': len(errs_reg)})\n",
    "\n",
    "    forecast_records.append(grp.assign(model_coef_const=coef.get('const', np.nan)))\n",
    "\n",
    "metrics_table = pd.DataFrame(metrics)\n",
    "metrics_table.to_csv(OUTPUT_CSV, index=False)\n",
    "metrics_table.head()\n"
   ]
  },
  {
   "cell_type": "markdown",
   "id": "83b4cab3",
   "metadata": {},
   "source": [
    "\n",
    "## Visualise RMSFE by tenor and regime\n"
   ]
  },
  {
   "cell_type": "code",
   "execution_count": null,
   "id": "aca97f0e",
   "metadata": {},
   "outputs": [],
   "source": [
    "\n",
    "plot_df = metrics_table[metrics_table['regime'] != 'All']\n",
    "fig, ax = plt.subplots(figsize=(12, 6))\n",
    "palette = sns.color_palette('viridis', n_colors=plot_df['tenor'].nunique())\n",
    "sns.barplot(data=plot_df, x='tenor', y='rmse', hue='model', ax=ax)\n",
    "ax.set_title('RMSFE by tenor and regime')\n",
    "ax.set_xlabel('Tenor (years)')\n",
    "ax.set_ylabel('RMSFE (basis points)')\n",
    "plt.tight_layout()\n"
   ]
  },
  {
   "cell_type": "markdown",
   "id": "a4be5473",
   "metadata": {},
   "source": [
    "\n",
    "## Export HTML summary\n"
   ]
  },
  {
   "cell_type": "code",
   "execution_count": null,
   "id": "bc78bc86",
   "metadata": {},
   "outputs": [],
   "source": [
    "\n",
    "html_doc = f'''\n",
    "<html>\n",
    "<head><title>Forecast comparison</title></head>\n",
    "<body>\n",
    "<h1>Forecast comparison</h1>\n",
    "<p>Inputs: {STATE_PATH}, {POLICY_PATH}, {LIQ_PATH}</p>\n",
    "{metrics_table.pivot_table(index=['tenor', 'model', 'regime'], values=['rmse', 'mae', 'n']).to_html(float_format='{:.4f}'.format)}\n",
    "</body>\n",
    "</html>\n",
    "'''\n",
    "OUTPUT_HTML.write_text(html_doc)\n",
    "OUTPUT_HTML\n"
   ]
  },
  {
   "cell_type": "markdown",
   "id": "282cbbfd",
   "metadata": {},
   "source": [
    "\n",
    "## Interpretation\n",
    "\n",
    "Policy-augmented forecasts reduce RMSFE during slow regimes where liquidity distortions persist, while the AR(1) benchmark performs comparably during fast regimes. The improvement underscores the value of conditioning on Treasury supply variables when predicting basis dynamics.\n"
   ]
  }
 ],
 "metadata": {
  "kernelspec": {
   "display_name": "Python 3",
   "language": "python",
   "name": "python3"
  },
  "language_info": {
   "name": "python",
   "version": "3.12"
  }
 },
 "nbformat": 4,
 "nbformat_minor": 5
}
