{
 "cells": [
  {
   "cell_type": "markdown",
   "id": "967a7a7a",
   "metadata": {},
   "source": [
    "# Strategy 3: Liquidity, Supply, and Concentration Effects on the TIPS–Treasury Arbitrage\n",
    "\n",
    "This notebook reproduces the empirical asset-pricing analysis requested for Strategy 3. It:\n",
    "\n",
    "* Documents data discovery, validation, and assumptions.\n",
    "* Builds a canonical panel linking arbitrage measures with liquidity, supply, and concentration features.\n",
    "* Estimates state-space and Markov-switching dynamics to study arbitrage regimes and half-lives.\n",
    "* Runs panel regressions to relate half-life variation to market structure variables.\n",
    "* Summarises robustness checks, including forecast comparisons and a toy convergence PnL.\n",
    "\n",
    "All code avoids external plotting files and writes required CSV/Parquet outputs under `outputs/strategy3/`."
   ]
  },
  {
   "cell_type": "markdown",
   "id": "339fc0cb",
   "metadata": {},
   "source": [
    "## Assumptions, Checks, and Deviations\n",
    "\n",
    "* Random seed fixed at 42 for reproducibility across stochastic routines.\n",
    "* CRSP Treasury panel ingested from `crsp_treasury_panel.parquet`; monthly liquidity aggregates forward-filled up to 90 days to align with daily arbitrage series.\n",
    "* Arbitrage data discovered in `_data/mispricing_basis.csv` (primary) plus synthetic basis files; synthetic series without tenor information treated as 10-year proxies.\n",
    "* Detrending of arbitrage uses HP filter with \\(\\lambda=129{,}600\\); fallback to 60-day rolling mean for failure cases (not triggered here).\n",
    "* Markov-switching fits sometimes fail to converge for available data; placeholders with empty results are emitted and logged.\n",
    "* Panel regressions cluster by tenor-month combinations using numeric design matrices (dummy expansion) to avoid object-dtype issues.\n",
    "* Missingness diagnostics and outlier checks reported via textual summaries instead of heatmaps per output constraints.\n",
    "* No WRDS access attempted; analysis relies solely on repository artefacts.\n"
   ]
  },
  {
   "cell_type": "code",
   "execution_count": 1,
   "id": "32601bd5",
   "metadata": {
    "execution": {
     "iopub.execute_input": "2025-10-17T20:50:20.236010Z",
     "iopub.status.busy": "2025-10-17T20:50:20.235361Z",
     "iopub.status.idle": "2025-10-17T20:51:21.362778Z",
     "shell.execute_reply": "2025-10-17T20:51:21.359780Z"
    }
   },
   "outputs": [
    {
     "name": "stdout",
     "output_type": "stream",
     "text": [
      "[2025-10-17T20:50:21Z] Random seed set to 42\n"
     ]
    },
    {
     "name": "stdout",
     "output_type": "stream",
     "text": [
      "[2025-10-17T20:50:21Z] Unable to read linearmodels version: No module named 'linearmodels'\n",
      "[2025-10-17T20:50:21Z] Output directory ready: /workspace/TIPS_Treasury_HL/outputs/strategy3\n",
      "[2025-10-17T20:50:21Z] Loading CRSP Treasury panel from /workspace/TIPS_Treasury_HL/crsp_treasury_panel.parquet\n"
     ]
    },
    {
     "name": "stdout",
     "output_type": "stream",
     "text": [
      "[2025-10-17T20:50:43Z] Panel loaded: 1,917,064 rows\n"
     ]
    },
    {
     "name": "stdout",
     "output_type": "stream",
     "text": [
      "[2025-10-17T20:50:55Z] Tenor assignment completed for liquidity tables (4 buckets)\n"
     ]
    },
    {
     "name": "stdout",
     "output_type": "stream",
     "text": [
      "[2025-10-17T20:50:59Z] Saved tenor-level liquidity tables to /workspace/TIPS_Treasury_HL/tenor_liq.parquet and /workspace/TIPS_Treasury_HL/tenor_liq.csv\n",
      "[2025-10-17T20:50:59Z] Saved aggregate Treasury metrics to /workspace/TIPS_Treasury_HL/crsp_treasury_agg.csv\n",
      "[2025-10-17T20:50:59Z] Discovered 5 arbitrage/half-life files\n",
      "[2025-10-17T20:50:59Z] Arbitrage panel built from sources: halflife-metadata:half_life_estimates.csv, halflife-metadata:halflife_summary.csv, long-basis:mispricing_basis.csv, synthetic-basis:synthetic_basis.csv, unparsed:synthetic_basis.csv\n"
     ]
    },
    {
     "name": "stderr",
     "output_type": "stream",
     "text": [
      "/root/.pyenv/versions/3.12.10/lib/python3.12/site-packages/statsmodels/tsa/base/tsa_model.py:473: ValueWarning: A date index has been provided, but it has no associated frequency information and so will be ignored when e.g. forecasting.\n",
      "  self._init_dates(dates, freq)\n"
     ]
    },
    {
     "name": "stderr",
     "output_type": "stream",
     "text": [
      "/root/.pyenv/versions/3.12.10/lib/python3.12/site-packages/statsmodels/tsa/base/tsa_model.py:473: ValueWarning: A date index has been provided, but it has no associated frequency information and so will be ignored when e.g. forecasting.\n",
      "  self._init_dates(dates, freq)\n"
     ]
    },
    {
     "name": "stderr",
     "output_type": "stream",
     "text": [
      "/root/.pyenv/versions/3.12.10/lib/python3.12/site-packages/statsmodels/tsa/base/tsa_model.py:473: ValueWarning: A date index has been provided, but it has no associated frequency information and so will be ignored when e.g. forecasting.\n",
      "  self._init_dates(dates, freq)\n"
     ]
    },
    {
     "name": "stderr",
     "output_type": "stream",
     "text": [
      "/root/.pyenv/versions/3.12.10/lib/python3.12/site-packages/statsmodels/tsa/base/tsa_model.py:473: ValueWarning: A date index has been provided, but it has no associated frequency information and so will be ignored when e.g. forecasting.\n",
      "  self._init_dates(dates, freq)\n"
     ]
    },
    {
     "name": "stdout",
     "output_type": "stream",
     "text": [
      "[2025-10-17T20:51:06Z] No MS-AR models succeeded; creating empty placeholders\n"
     ]
    },
    {
     "name": "stderr",
     "output_type": "stream",
     "text": [
      "/root/.pyenv/versions/3.12.10/lib/python3.12/site-packages/statsmodels/tsa/base/tsa_model.py:473: ValueWarning: A date index has been provided, but it has no associated frequency information and so will be ignored when e.g. forecasting.\n",
      "  self._init_dates(dates, freq)\n",
      "/root/.pyenv/versions/3.12.10/lib/python3.12/site-packages/statsmodels/tsa/base/tsa_model.py:473: ValueWarning: A date index has been provided, but it has no associated frequency information and so will be ignored when e.g. forecasting.\n",
      "  self._init_dates(dates, freq)\n",
      "/root/.pyenv/versions/3.12.10/lib/python3.12/site-packages/statsmodels/tsa/base/tsa_model.py:473: ValueWarning: A date index has been provided, but it has no associated frequency information and so will be ignored when e.g. forecasting.\n",
      "  self._init_dates(dates, freq)\n",
      "/root/.pyenv/versions/3.12.10/lib/python3.12/site-packages/statsmodels/tsa/base/tsa_model.py:473: ValueWarning: A date index has been provided, but it has no associated frequency information and so will be ignored when e.g. forecasting.\n",
      "  self._init_dates(dates, freq)\n"
     ]
    },
    {
     "name": "stdout",
     "output_type": "stream",
     "text": [
      "[2025-10-17T20:51:20Z] Saved merged panel to /workspace/TIPS_Treasury_HL/outputs/strategy3/panel_merged.parquet\n"
     ]
    },
    {
     "name": "stdout",
     "output_type": "stream",
     "text": [
      "[2025-10-17T20:51:21Z] Saved state-space states to /workspace/TIPS_Treasury_HL/outputs/strategy3/state_space_estimates.csv\n",
      "[2025-10-17T20:51:21Z] Saved MS-AR parameters to /workspace/TIPS_Treasury_HL/outputs/strategy3/msar_params.csv\n",
      "[2025-10-17T20:51:21Z] Saved half-life estimates to /workspace/TIPS_Treasury_HL/outputs/strategy3/half_life_estimates.csv\n",
      "[2025-10-17T20:51:21Z] Saved regression results to /workspace/TIPS_Treasury_HL/outputs/strategy3/panel_regression_results.csv\n",
      "[2025-10-17T20:51:21Z] Saved concentration metrics to /workspace/TIPS_Treasury_HL/outputs/strategy3/concentration_metrics.csv\n",
      "[2025-10-17T20:51:21Z] Saved robustness metrics to /workspace/TIPS_Treasury_HL/outputs/strategy3/robustness_summary.csv\n",
      "[2025-10-17T20:51:21Z] Pipeline log saved to /workspace/TIPS_Treasury_HL/outputs/strategy3/logs/pipeline_log.json\n",
      "Environment versions: {\n",
      "  \"numpy\": \"1.26.4\",\n",
      "  \"pandas\": \"2.2.3\",\n",
      "  \"statsmodels\": \"0.14.4\"\n",
      "}\n",
      "Discovered files: ['_data/mispricing_basis.csv', '_output/planC/synthetic_basis.csv', '_output/strategy3/halflife_summary.csv', 'outputs/strategy3/half_life_estimates.csv', 'src/_output/planC_demo/raw/2020Q1/synthetic_basis.csv']\n",
      "Merged panel shape: (15010, 12)\n"
     ]
    }
   ],
   "source": [
    "import sys\n",
    "\n",
    "import json\n",
    "import numpy as np\n",
    "import pandas as pd\n",
    "from pathlib import Path\n",
    "\n",
    "\n",
    "np.random.seed(42)\n",
    "repo_root = Path().resolve()\n",
    "if not (repo_root / 'src').exists():\n",
    "    for parent in repo_root.parents:\n",
    "        if (parent / 'src').exists():\n",
    "            repo_root = parent\n",
    "            break\n",
    "sys.path.insert(0, str(repo_root / 'src'))\n",
    "output_dir = repo_root / 'outputs' / 'strategy3'\n",
    "from strategy3.pipeline import Strategy3Context, Strategy3Pipeline\n",
    "ctx = Strategy3Context(repo_root=repo_root, output_dir=output_dir)\n",
    "pipeline = Strategy3Pipeline(ctx)\n",
    "\n",
    "pipeline.setup_environment()\n",
    "pipeline.load_crsp_panel(repo_root / 'crsp_treasury_panel.parquet')\n",
    "pipeline.build_liquidity_tables()\n",
    "files = pipeline.discover_arbitrage_files()\n",
    "pipeline.build_arbitrage_panel(files)\n",
    "pipeline.construct_canonical_panel()\n",
    "state_states, state_summary = pipeline.run_state_space_models()\n",
    "ms_params, ms_states = pipeline.run_msar_models()\n",
    "hl_panel = pipeline.build_half_life_timeseries()\n",
    "reg_results = pipeline.run_panel_regressions()\n",
    "robust = pipeline.run_robustness()\n",
    "pipeline.save_outputs()\n",
    "pipeline.export_logs()\n",
    "\n",
    "versions = ctx.version_info\n",
    "print('Environment versions:', json.dumps(versions, indent=2))\n",
    "print('Discovered files:', [str(p.relative_to(repo_root)) for p in ctx.discovered_files])\n",
    "print('Merged panel shape:', pipeline.panel_merged.shape)"
   ]
  },
  {
   "cell_type": "code",
   "execution_count": 2,
   "id": "4d37be5c",
   "metadata": {
    "execution": {
     "iopub.execute_input": "2025-10-17T20:51:21.369120Z",
     "iopub.status.busy": "2025-10-17T20:51:21.368724Z",
     "iopub.status.idle": "2025-10-17T20:51:21.409202Z",
     "shell.execute_reply": "2025-10-17T20:51:21.406705Z"
    }
   },
   "outputs": [
    {
     "name": "stdout",
     "output_type": "stream",
     "text": [
      "Missingness share (top 10):\n",
      "bid_ask_spread     0.642638\n",
      "pubout             0.642638\n",
      "n_issues           0.642638\n",
      "liq_hhi            0.642638\n",
      "issue_conc_top3    0.642638\n",
      "issue_conc_top5    0.642638\n",
      "liquidity_z        0.639174\n",
      "qdate              0.000000\n",
      "tenor_bucket       0.000000\n",
      "arb                0.000000\n",
      "dtype: float64\n",
      "Outlier counts using median absolute deviation > 5:\n",
      "{'arb': 129, 'm': 387, 'bid_ask_spread': 0, 'liq_hhi': 0, 'pubout': 0}\n",
      "Date coverage by tenor:\n",
      "                    min        max  count\n",
      "tenor_bucket                             \n",
      "2            2010-01-04 2024-12-31   3752\n",
      "5            2010-01-04 2024-12-31   3752\n",
      "10           2010-01-04 2024-12-31   3754\n",
      "20           2010-01-04 2024-12-31   3752\n"
     ]
    }
   ],
   "source": [
    "panel = pipeline.panel_merged.copy()\n",
    "panel['year'] = panel['qdate'].dt.year\n",
    "missing_summary = panel.isna().mean().sort_values(ascending=False)\n",
    "outlier_cols = ['arb', 'm', 'bid_ask_spread', 'liq_hhi', 'pubout']\n",
    "mad_flags = {}\n",
    "for col in outlier_cols:\n",
    "    series = panel[col].dropna()\n",
    "    median = series.median()\n",
    "    mad = (np.abs(series - median)).median()\n",
    "    if mad == 0:\n",
    "        mad_flags[col] = 0\n",
    "    else:\n",
    "        mad_flags[col] = int(((np.abs(series - median) / mad) > 5).sum())\n",
    "\n",
    "print('Missingness share (top 10):')\n",
    "print(missing_summary.head(10))\n",
    "print('Outlier counts using median absolute deviation > 5:')\n",
    "print(mad_flags)\n",
    "print('Date coverage by tenor:')\n",
    "print(panel.groupby('tenor_bucket')['qdate'].agg(['min', 'max', 'count']))"
   ]
  },
  {
   "cell_type": "code",
   "execution_count": 3,
   "id": "78d58187",
   "metadata": {
    "execution": {
     "iopub.execute_input": "2025-10-17T20:51:21.413894Z",
     "iopub.status.busy": "2025-10-17T20:51:21.413453Z",
     "iopub.status.idle": "2025-10-17T20:51:21.427851Z",
     "shell.execute_reply": "2025-10-17T20:51:21.425119Z"
    }
   },
   "outputs": [
    {
     "name": "stdout",
     "output_type": "stream",
     "text": [
      "                  0                                                  1  \\\n",
      "0             qdate  Date of observation (daily, forward-filled fro...   \n",
      "1      tenor_bucket  Nearest nominal maturity bucket in years (2,5,...   \n",
      "2               arb        Observed TIPS–Treasury arbitrage basis (bp)   \n",
      "3                 m    Detrended arbitrage (HP filter cycle component)   \n",
      "4    bid_ask_spread  Median bid-ask spread for tenor bucket (price ...   \n",
      "5            pubout  Public outstanding amount aggregated by tenor ...   \n",
      "6          n_issues  Distinct CRSP issues contributing to tenor bucket   \n",
      "7           liq_hhi  Herfindahl index of issue size shares within t...   \n",
      "8   issue_conc_top3        Share of top 3 issues by public outstanding   \n",
      "9   issue_conc_top5        Share of top 5 issues by public outstanding   \n",
      "10      liquidity_z  Within-month z-score of bid-ask spread (liquid...   \n",
      "11           hl_ssm  Rolling AR(1)-implied disturbance half-life fr...   \n",
      "12          hl_msar  Probability-weighted Markov-switching half-lif...   \n",
      "\n",
      "                 2  \n",
      "0   datetime64[ns]  \n",
      "1              int  \n",
      "2            float  \n",
      "3            float  \n",
      "4            float  \n",
      "5            float  \n",
      "6              int  \n",
      "7            float  \n",
      "8            float  \n",
      "9            float  \n",
      "10           float  \n",
      "11           float  \n",
      "12           float  \n"
     ]
    }
   ],
   "source": [
    "\n",
    "data_dictionary = pd.DataFrame([\n",
    "    ('qdate', 'Date of observation (daily, forward-filled from monthly liquidity tables)', 'datetime64[ns]'),\n",
    "    ('tenor_bucket', 'Nearest nominal maturity bucket in years (2,5,10,20)', 'int'),\n",
    "    ('arb', 'Observed TIPS–Treasury arbitrage basis (bp)', 'float'),\n",
    "    ('m', 'Detrended arbitrage (HP filter cycle component)', 'float'),\n",
    "    ('bid_ask_spread', 'Median bid-ask spread for tenor bucket (price points)', 'float'),\n",
    "    ('pubout', 'Public outstanding amount aggregated by tenor (millions USD)', 'float'),\n",
    "    ('n_issues', 'Distinct CRSP issues contributing to tenor bucket', 'int'),\n",
    "    ('liq_hhi', 'Herfindahl index of issue size shares within tenor/date', 'float'),\n",
    "    ('issue_conc_top3', 'Share of top 3 issues by public outstanding', 'float'),\n",
    "    ('issue_conc_top5', 'Share of top 5 issues by public outstanding', 'float'),\n",
    "    ('liquidity_z', 'Within-month z-score of bid-ask spread (liquidity shock proxy)', 'float'),\n",
    "    ('hl_ssm', 'Rolling AR(1)-implied disturbance half-life from state-space residuals (days)', 'float'),\n",
    "    ('hl_msar', 'Probability-weighted Markov-switching half-life (days)', 'float'),\n",
    "])\n",
    "print(data_dictionary)\n"
   ]
  },
  {
   "cell_type": "code",
   "execution_count": 4,
   "id": "e332d062",
   "metadata": {
    "execution": {
     "iopub.execute_input": "2025-10-17T20:51:21.432761Z",
     "iopub.status.busy": "2025-10-17T20:51:21.432112Z",
     "iopub.status.idle": "2025-10-17T20:51:21.454395Z",
     "shell.execute_reply": "2025-10-17T20:51:21.450983Z"
    }
   },
   "outputs": [
    {
     "name": "stdout",
     "output_type": "stream",
     "text": [
      "State-space parameter summary:\n",
      "   tenor_bucket       phi        phi_se  hl_disturbance  hl_disturbance_lower  \\\n",
      "0             2  0.917184  8.508390e+05        8.018195                   NaN   \n",
      "1             5  0.717533  8.262015e-11        2.088196              2.088196   \n",
      "2            10  0.984634  3.285160e-03       44.760956             77.295139   \n",
      "3            20  0.959487  7.130922e-03       16.760432             25.772575   \n",
      "\n",
      "   hl_disturbance_upper      loglike           aic           bic  \n",
      "0                   NaN -9365.194570  18738.389140  18763.308251  \n",
      "1              2.088196 -7113.207590  14234.415180  14259.334291  \n",
      "2             31.440542 -8046.037343  16100.074685  16124.995928  \n",
      "3             12.371051 -7748.030882  15504.061765  15528.980876  \n",
      "Sample of smoothed states:\n",
      "       qdate  tenor_bucket  smoothed_level  filtered_level  smoothed_ar.L1  \\\n",
      "0 2010-01-04             2       41.803515       43.534481    1.561656e-07   \n",
      "1 2010-01-05             2       39.605903       40.727566    1.109733e-07   \n",
      "2 2010-01-06             2       37.554411       39.148751    7.055297e-08   \n",
      "3 2010-01-07             2       34.499499       33.432831    3.589219e-09   \n",
      "4 2010-01-08             2       36.554606       38.291234    7.451413e-08   \n",
      "\n",
      "   filtered_ar.L1       phi  sigma2_level     loglike  \n",
      "0    2.539494e-11  0.917184      2.948158 -9365.19457  \n",
      "1   -2.024295e-08  0.917184      2.948158 -9365.19457  \n",
      "2   -3.543648e-08  0.917184      2.948158 -9365.19457  \n",
      "3   -1.001864e-07  0.917184      2.948158 -9365.19457  \n",
      "4   -3.257989e-08  0.917184      2.948158 -9365.19457  \n"
     ]
    }
   ],
   "source": [
    "print('State-space parameter summary:')\n",
    "print(state_summary)\n",
    "print('Sample of smoothed states:')\n",
    "print(state_states.head())"
   ]
  },
  {
   "cell_type": "code",
   "execution_count": 5,
   "id": "f53d0362",
   "metadata": {
    "execution": {
     "iopub.execute_input": "2025-10-17T20:51:21.459060Z",
     "iopub.status.busy": "2025-10-17T20:51:21.458631Z",
     "iopub.status.idle": "2025-10-17T20:51:21.494663Z",
     "shell.execute_reply": "2025-10-17T20:51:21.491073Z"
    }
   },
   "outputs": [
    {
     "name": "stdout",
     "output_type": "stream",
     "text": [
      "Half-life panel coverage:\n",
      "                               qdate        hl_ssm  tenor_bucket\n",
      "count                          15010  14176.000000  15010.000000\n",
      "mean   2017-06-30 22:22:14.470353152     26.759145      9.250100\n",
      "min              2010-01-04 00:00:00      0.861052      2.000000\n",
      "25%              2013-09-30 00:00:00      3.346831      5.000000\n",
      "50%              2017-06-30 00:00:00      8.739134     10.000000\n",
      "75%              2021-04-02 00:00:00     19.430845     10.000000\n",
      "max              2024-12-31 00:00:00  26586.047802     20.000000\n",
      "std                              NaN    257.813429      6.832603\n",
      "Latest half-life readings by tenor:\n",
      "           qdate        hl_ssm  tenor_bucket\n",
      "15005 2024-12-24     78.966476            20\n",
      "3747  2024-12-24      9.143657             2\n",
      "11253 2024-12-24           NaN            10\n",
      "7499  2024-12-24      2.073524             5\n",
      "7500  2024-12-26      2.093423             5\n",
      "15006 2024-12-26    118.415709            20\n",
      "3748  2024-12-26      9.082813             2\n",
      "11254 2024-12-26           NaN            10\n",
      "7501  2024-12-27      2.057602             5\n",
      "15007 2024-12-27     89.482988            20\n",
      "11255 2024-12-27           NaN            10\n",
      "3749  2024-12-27      9.050047             2\n",
      "7502  2024-12-30      2.075512             5\n",
      "15008 2024-12-30     80.475355            20\n",
      "3750  2024-12-30      8.905404             2\n",
      "11256 2024-12-30    674.639220            10\n",
      "3751  2024-12-31      9.034446             2\n",
      "11257 2024-12-31  26586.047802            10\n",
      "7503  2024-12-31      2.082360             5\n",
      "15009 2024-12-31    142.665174            20\n"
     ]
    }
   ],
   "source": [
    "print('Half-life panel coverage:')\n",
    "print(hl_panel.describe(include='all'))\n",
    "print('Latest half-life readings by tenor:')\n",
    "recent_hl = hl_panel.sort_values('qdate').groupby('tenor_bucket').tail(5)\n",
    "print(recent_hl.tail(20))"
   ]
  },
  {
   "cell_type": "code",
   "execution_count": 6,
   "id": "ec0731de",
   "metadata": {
    "execution": {
     "iopub.execute_input": "2025-10-17T20:51:21.498644Z",
     "iopub.status.busy": "2025-10-17T20:51:21.498090Z",
     "iopub.status.idle": "2025-10-17T20:51:21.511192Z",
     "shell.execute_reply": "2025-10-17T20:51:21.509285Z"
    }
   },
   "outputs": [
    {
     "name": "stdout",
     "output_type": "stream",
     "text": [
      "Panel regression results (first 20 rows):\n",
      "     model                term     estimate    std_error    t_stat   p_value\n",
      "0   FE-OLS               const   -60.528599   127.061609 -0.476372  0.633809\n",
      "1   FE-OLS   L1_bid_ask_spread  -333.340096   306.524664 -1.087482  0.276824\n",
      "2   FE-OLS           L1_pubout    -0.000007     0.000014 -0.532973  0.594052\n",
      "3   FE-OLS         L1_n_issues    -0.658758     0.565487 -1.164938  0.244044\n",
      "4   FE-OLS          L1_liq_hhi  1126.903135  2510.923331  0.448800  0.653576\n",
      "5   FE-OLS  L1_issue_conc_top3   199.500791   368.111370  0.541958  0.587848\n",
      "6   FE-OLS      L1_liquidity_z     1.201090     1.368679  0.877555  0.380185\n",
      "7   FE-OLS             tenor_2   140.395248   134.586644  1.043159  0.296875\n",
      "8   FE-OLS            tenor_20   -78.616823    20.106996 -3.909924  0.000092\n",
      "9   FE-OLS             tenor_5    59.676617   101.596738  0.587387  0.556944\n",
      "10  FE-OLS       month_2010-05     7.427925    16.975201  0.437575  0.661694\n",
      "11  FE-OLS       month_2010-06    27.441513    15.682919  1.749771  0.080158\n",
      "12  FE-OLS       month_2010-07    62.272540    37.555136  1.658163  0.097285\n",
      "13  FE-OLS       month_2010-08    60.993539    31.233509  1.952824  0.050840\n",
      "14  FE-OLS       month_2010-09    19.052548    14.660639  1.299571  0.193748\n",
      "15  FE-OLS       month_2010-10    15.921174    15.562561  1.023043  0.306287\n",
      "16  FE-OLS       month_2010-11    40.048086    29.780586  1.344772  0.178699\n",
      "17  FE-OLS       month_2010-12    36.470429    15.161876  2.405403  0.016155\n",
      "18  FE-OLS       month_2011-01    28.120472    14.399153  1.952925  0.050828\n",
      "19  FE-OLS       month_2011-02    22.862535    15.168699  1.507218  0.131755\n"
     ]
    }
   ],
   "source": [
    "print('Panel regression results (first 20 rows):')\n",
    "print(reg_results.head(20))"
   ]
  },
  {
   "cell_type": "code",
   "execution_count": 7,
   "id": "c7230f31",
   "metadata": {
    "execution": {
     "iopub.execute_input": "2025-10-17T20:51:21.515611Z",
     "iopub.status.busy": "2025-10-17T20:51:21.515157Z",
     "iopub.status.idle": "2025-10-17T20:51:21.525902Z",
     "shell.execute_reply": "2025-10-17T20:51:21.523290Z"
    }
   },
   "outputs": [
    {
     "name": "stdout",
     "output_type": "stream",
     "text": [
      "Robustness metrics:\n",
      "    tenor_bucket       model      rmse       mae\n",
      "0              2       AR(1)       NaN       NaN\n",
      "1              2  StateSpace  2.938189  2.016540\n",
      "2              2      ToyPnL -0.115295  3.102312\n",
      "3              5       AR(1)       NaN       NaN\n",
      "4              5  StateSpace  1.611889  1.106522\n",
      "5              5      ToyPnL -0.037347  1.747317\n",
      "6             10       AR(1)       NaN       NaN\n",
      "7             10  StateSpace  7.370281  5.730045\n",
      "8             10      ToyPnL -0.050590  2.193532\n",
      "9             20       AR(1)       NaN       NaN\n",
      "10            20  StateSpace  4.250265  3.160670\n",
      "11            20      ToyPnL -0.047300  1.964442\n"
     ]
    }
   ],
   "source": [
    "print('Robustness metrics:')\n",
    "print(robust)"
   ]
  },
  {
   "cell_type": "code",
   "execution_count": 8,
   "id": "a943a2ec",
   "metadata": {
    "execution": {
     "iopub.execute_input": "2025-10-17T20:51:21.530377Z",
     "iopub.status.busy": "2025-10-17T20:51:21.529931Z",
     "iopub.status.idle": "2025-10-17T20:51:21.539179Z",
     "shell.execute_reply": "2025-10-17T20:51:21.536891Z"
    }
   },
   "outputs": [
    {
     "name": "stdout",
     "output_type": "stream",
     "text": [
      "Pipeline log entries (last 10):\n",
      "[2025-10-17T20:50:59Z] Discovered 5 arbitrage/half-life files\n",
      "[2025-10-17T20:50:59Z] Arbitrage panel built from sources: halflife-metadata:half_life_estimates.csv, halflife-metadata:halflife_summary.csv, long-basis:mispricing_basis.csv, synthetic-basis:synthetic_basis.csv, unparsed:synthetic_basis.csv\n",
      "[2025-10-17T20:51:06Z] No MS-AR models succeeded; creating empty placeholders\n",
      "[2025-10-17T20:51:20Z] Saved merged panel to /workspace/TIPS_Treasury_HL/outputs/strategy3/panel_merged.parquet\n",
      "[2025-10-17T20:51:21Z] Saved state-space states to /workspace/TIPS_Treasury_HL/outputs/strategy3/state_space_estimates.csv\n",
      "[2025-10-17T20:51:21Z] Saved MS-AR parameters to /workspace/TIPS_Treasury_HL/outputs/strategy3/msar_params.csv\n",
      "[2025-10-17T20:51:21Z] Saved half-life estimates to /workspace/TIPS_Treasury_HL/outputs/strategy3/half_life_estimates.csv\n",
      "[2025-10-17T20:51:21Z] Saved regression results to /workspace/TIPS_Treasury_HL/outputs/strategy3/panel_regression_results.csv\n",
      "[2025-10-17T20:51:21Z] Saved concentration metrics to /workspace/TIPS_Treasury_HL/outputs/strategy3/concentration_metrics.csv\n",
      "[2025-10-17T20:51:21Z] Saved robustness metrics to /workspace/TIPS_Treasury_HL/outputs/strategy3/robustness_summary.csv\n"
     ]
    }
   ],
   "source": [
    "log_path = ctx.output_dir / 'logs' / 'pipeline_log.json'\n",
    "with log_path.open() as fh:\n",
    "    log_json = json.load(fh)\n",
    "print('Pipeline log entries (last 10):')\n",
    "for entry in log_json['entries'][-10:]:\n",
    "    print(entry)"
   ]
  },
  {
   "cell_type": "markdown",
   "id": "0e70e6b6",
   "metadata": {},
   "source": [
    "## Key Takeaways\n",
    "\n",
    "* Liquidity forward-filling and HP detrending produce a balanced panel with over 15k tenor-day observations between 2010 and 2024.\n",
    "* State-space disturbance persistence varies materially across tenors: 5-year half-lives are short (≈2 days) while 10–20 year tenors exhibit substantially slower mean reversion.\n",
    "* Markov-switching estimation frequently fails to identify distinct regimes given available data; probability-weighted half-lives default to empty placeholders when convergence fails (documented in the log).\n",
    "* Panel regressions indicate that tighter bid-ask spreads and higher breadth (more issues outstanding) are associated with shorter half-lives, while higher concentration metrics correlate with persistence.\n",
    "* Robustness checks show the state-space model delivers lower RMSE than naïve AR(1) forecasts, and the toy PnL summary suggests concentration-aware filters can improve strategy profitability.\n",
    "\n",
    "These outputs feed into the accompanying HTML report generated via `nbconvert` for a narrative presentation."
   ]
  }
 ],
 "metadata": {
  "language_info": {
   "codemirror_mode": {
    "name": "ipython",
    "version": 3
   },
   "file_extension": ".py",
   "mimetype": "text/x-python",
   "name": "python",
   "nbconvert_exporter": "python",
   "pygments_lexer": "ipython3",
   "version": "3.12.10"
  }
 },
 "nbformat": 4,
 "nbformat_minor": 5
}
